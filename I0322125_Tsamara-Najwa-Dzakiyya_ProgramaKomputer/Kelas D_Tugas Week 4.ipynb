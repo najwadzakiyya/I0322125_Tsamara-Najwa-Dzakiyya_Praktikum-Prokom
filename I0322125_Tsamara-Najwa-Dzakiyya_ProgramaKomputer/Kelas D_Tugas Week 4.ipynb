{
 "cells": [
  {
   "cell_type": "code",
   "execution_count": null,
   "metadata": {},
   "outputs": [],
   "source": [
    "print(input(\"Nama: \"))\n",
    "print(input(\"NIM: \"))\n",
    "print(input(\"Kelas: \"))"
   ]
  },
  {
   "attachments": {},
   "cell_type": "markdown",
   "metadata": {},
   "source": [
    "## 1."
   ]
  },
  {
   "attachments": {},
   "cell_type": "markdown",
   "metadata": {},
   "source": [
    "Buatlah program yang menampilkan salam “Selamat Pagi” dari berbagai negara {Inggris, Perancis, Italia, Spanyol, Jepang, Korea} dengan dua input dari user yaitu bahasa dan diikuti nama user.<br>\n",
    "<br>Ex : \n",
    "<br>\"Ohayou, Onii Chan\"\n",
    "> *note: Kerjakan soal ini dengan percabangan*"
   ]
  },
  {
   "cell_type": "code",
   "execution_count": 5,
   "metadata": {},
   "outputs": [],
   "source": [
    "# Kerjakan soal nomor 1 disini\n",
    "bahasa_salam = input('masukkan negara')\n",
    "nama_orang = input('masukkan nama')\n",
    "\n",
    "if bahasa_salam == 'inggris':\n",
    "    print('Good Morning, ', nama_orang)\n",
    "elif bahasa_salam == 'perancis':\n",
    "    print('Bonjour,', nama_orang)\n",
    "elif bahasa_salam == 'italia':\n",
    "    print('Buongiorno, ', nama_orang)\n",
    "elif bahasa_salam == 'spanyol':\n",
    "    print('Buenos días, ', nama_orang)\n",
    "elif bahasa_salam == 'jepang':\n",
    "    print('Ohayo Gozai Masu, ', nama_orang)\n",
    "elif bahasa_salam == 'korea':\n",
    "    print('Annyeonghaseyo, ', nama_orang)"
   ]
  },
  {
   "attachments": {},
   "cell_type": "markdown",
   "metadata": {},
   "source": [
    "## 2."
   ]
  },
  {
   "attachments": {},
   "cell_type": "markdown",
   "metadata": {},
   "source": [
    "Buatlah program perhitungan umur dengan menggunakan input user yaitu tahun lahir dari user.<br>\n",
    "<br>Output yang dihasilkan adalah sebagai berikut:\n",
    "<br>\"Apakah anda berasal dari masa depan?\"\n",
    "<br>\"Anda barusaja lahir\"\n",
    "<br>\"Umur Anda adalah xx tahun\"\n",
    "> *note: Kerjakan soal ini dengan percabangan*"
   ]
  },
  {
   "cell_type": "code",
   "execution_count": 9,
   "metadata": {},
   "outputs": [
    {
     "name": "stdout",
     "output_type": "stream",
     "text": [
      "umur anda adalah 2\n"
     ]
    }
   ],
   "source": [
    "# Kerjakan soal nomor 2 disini\n",
    "tahun_lahir = int(input('masukkan tahun lahir'))\n",
    "tahun_sekarang = 2023\n",
    "umur = tahun_sekarang - tahun_lahir\n",
    "if tahun_lahir > 2023:\n",
    "    print('anda berasal dari masa depan')\n",
    "elif tahun_lahir < 2023:\n",
    "    print(f'umur anda adalah {umur}')\n",
    "else :\n",
    "    print('anda baru saja lahir')\n"
   ]
  }
 ],
 "metadata": {
  "kernelspec": {
   "display_name": "Python 3",
   "language": "python",
   "name": "python3"
  },
  "language_info": {
   "codemirror_mode": {
    "name": "ipython",
    "version": 3
   },
   "file_extension": ".py",
   "mimetype": "text/x-python",
   "name": "python",
   "nbconvert_exporter": "python",
   "pygments_lexer": "ipython3",
   "version": "3.10.8"
  },
  "orig_nbformat": 4,
  "vscode": {
   "interpreter": {
    "hash": "229cdfb8eedfa4964725b7eb0da8d7a63b25d97a6ab808f09bd6b506844c0629"
   }
  }
 },
 "nbformat": 4,
 "nbformat_minor": 2
}
