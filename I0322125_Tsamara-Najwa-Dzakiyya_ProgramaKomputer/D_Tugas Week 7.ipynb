{
 "cells": [
  {
   "cell_type": "code",
   "execution_count": 7,
   "metadata": {},
   "outputs": [
    {
     "data": {
      "text/plain": [
       "[[0, 1, 2], [3, 11, 12], [20, 21, 22]]"
      ]
     },
     "execution_count": 7,
     "metadata": {},
     "output_type": "execute_result"
    }
   ],
   "source": [
    "#Buatlah sebuah fungsi untuk membuat matrix berdasarkan input dari user\n",
    "\n",
    "def create_matrix(baris,kolom):\n",
    "    matrix = []\n",
    "\n",
    "    #Tulis kode kamu disini\n",
    "    for i in range(baris):\n",
    "        daerah = []\n",
    "        for j in range(kolom):\n",
    "            angka = int(input(f\"{i}{j}\"))\n",
    "            daerah.append(angka)\n",
    "        matrix.append(daerah)\n",
    "\n",
    "    return matrix\n",
    "\n",
    "\n",
    "baris = int(input('Masukkan Jumlah Baris:\\t'))\n",
    "kolom = int(input('Masukkan Jumlah Kolom:\\t'))\n",
    "\n",
    "create_matrix(baris,kolom)"
   ]
  },
  {
   "cell_type": "code",
   "execution_count": 16,
   "metadata": {},
   "outputs": [
    {
     "data": {
      "text/plain": [
       "[[0, 1], [10, 11]]"
      ]
     },
     "execution_count": 16,
     "metadata": {},
     "output_type": "execute_result"
    }
   ],
   "source": [
    "#Buatlah sebuah fungsi untuk mencari invers matrix berdasarkan input matrix dari user\n",
    "\n",
    "def invers():\n",
    "    det = []\n",
    "\n",
    "    #Tulis kode kamu disini\n",
    "    matriks = int(input('matriks : '))\n",
    "    for a in range(matriks):\n",
    "        daerah = []\n",
    "        for b in range (matriks):\n",
    "            angka = int(input(f'{a}{b}'))\n",
    "            daerah.append(angka)\n",
    "        det.append(daerah)\n",
    "\n",
    "def determinan(det):\n",
    "    c = len(det)\n",
    "    if c == 1 :\n",
    "        return det [0][0]\n",
    "    elif c == 2 :\n",
    "        return det[0][0] * det[1][1] - det[0][1] * det[1][0]\n",
    "    else:\n",
    "        deter = 0\n",
    "        for d in range (c):\n",
    "            sub = [daerah[:d] + daerah[d+1:] for daerah in det[1:]]\n",
    "            det += ((-1)**d) * det[0][d] * determinan(sub)\n",
    "        return determinan(det)\n",
    "\n",
    "baris = int(input('Masukkan Jumlah Baris:\\t'))\n",
    "kolom = int(input('Masukkan Jumlah Kolom:\\t'))\n",
    "\n",
    "create_matrix(baris, kolom)"
   ]
  },
  {
   "cell_type": "code",
   "execution_count": 19,
   "metadata": {},
   "outputs": [
    {
     "data": {
      "text/plain": [
       "[[6.0, 11.0], [12.0, 18.0]]"
      ]
     },
     "execution_count": 19,
     "metadata": {},
     "output_type": "execute_result"
    }
   ],
   "source": [
    "#Buatlah Fungsi untuk melakukan pembagian matrix antar matrix berdasarkan input user menggunakan nested loop\n",
    "\n",
    "def bagi_matrix(matrix1, skalar):\n",
    "    hasil = []\n",
    "\n",
    "    #Tulis kode kamu disini\n",
    "    for i in range(len(matrix1)):\n",
    "        daerah = []\n",
    "        for j in range(len(matrix1[0])):\n",
    "            angka = matrix1[i][j] / skalar\n",
    "            daerah.append(angka)\n",
    "        hasil.append(daerah)\n",
    "    return hasil\n",
    "\n",
    "\n",
    "\n",
    "matrix1 = [[12,22],[24,36]]\n",
    "skalar = int(input('Matrix dibagi berapa?\\t'))\n",
    "\n",
    "\n",
    "bagi_matrix(matrix1, skalar)"
   ]
  }
 ],
 "metadata": {
  "kernelspec": {
   "display_name": "Python 3",
   "language": "python",
   "name": "python3"
  },
  "language_info": {
   "codemirror_mode": {
    "name": "ipython",
    "version": 3
   },
   "file_extension": ".py",
   "mimetype": "text/x-python",
   "name": "python",
   "nbconvert_exporter": "python",
   "pygments_lexer": "ipython3",
   "version": "3.10.8"
  },
  "orig_nbformat": 4
 },
 "nbformat": 4,
 "nbformat_minor": 2
}
