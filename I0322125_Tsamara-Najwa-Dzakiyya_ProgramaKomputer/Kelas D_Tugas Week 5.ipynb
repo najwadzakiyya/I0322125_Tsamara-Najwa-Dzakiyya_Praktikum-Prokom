{
 "cells": [
  {
   "attachments": {},
   "cell_type": "markdown",
   "metadata": {},
   "source": [
    "1. Buatlah program pemanggilan angka secara descending menggunakan pengulangan dari angka 50 hingga 0!"
   ]
  },
  {
   "cell_type": "code",
   "execution_count": 1,
   "metadata": {},
   "outputs": [
    {
     "name": "stdout",
     "output_type": "stream",
     "text": [
      "01234567891011121314151617181920212223242526272829303132333435363738394041424344454647484950\n",
      "012345678910111213141516171819202122232425262728293031323334353637383940414243444546474849\n",
      "0123456789101112131415161718192021222324252627282930313233343536373839404142434445464748\n",
      "01234567891011121314151617181920212223242526272829303132333435363738394041424344454647\n",
      "012345678910111213141516171819202122232425262728293031323334353637383940414243444546\n",
      "0123456789101112131415161718192021222324252627282930313233343536373839404142434445\n",
      "01234567891011121314151617181920212223242526272829303132333435363738394041424344\n",
      "012345678910111213141516171819202122232425262728293031323334353637383940414243\n",
      "0123456789101112131415161718192021222324252627282930313233343536373839404142\n",
      "01234567891011121314151617181920212223242526272829303132333435363738394041\n",
      "012345678910111213141516171819202122232425262728293031323334353637383940\n",
      "0123456789101112131415161718192021222324252627282930313233343536373839\n",
      "01234567891011121314151617181920212223242526272829303132333435363738\n",
      "012345678910111213141516171819202122232425262728293031323334353637\n",
      "0123456789101112131415161718192021222324252627282930313233343536\n",
      "01234567891011121314151617181920212223242526272829303132333435\n",
      "012345678910111213141516171819202122232425262728293031323334\n",
      "0123456789101112131415161718192021222324252627282930313233\n",
      "01234567891011121314151617181920212223242526272829303132\n",
      "012345678910111213141516171819202122232425262728293031\n",
      "0123456789101112131415161718192021222324252627282930\n",
      "01234567891011121314151617181920212223242526272829\n",
      "012345678910111213141516171819202122232425262728\n",
      "0123456789101112131415161718192021222324252627\n",
      "01234567891011121314151617181920212223242526\n",
      "012345678910111213141516171819202122232425\n",
      "0123456789101112131415161718192021222324\n",
      "01234567891011121314151617181920212223\n",
      "012345678910111213141516171819202122\n",
      "0123456789101112131415161718192021\n",
      "01234567891011121314151617181920\n",
      "012345678910111213141516171819\n",
      "0123456789101112131415161718\n",
      "01234567891011121314151617\n",
      "012345678910111213141516\n",
      "0123456789101112131415\n",
      "01234567891011121314\n",
      "012345678910111213\n",
      "0123456789101112\n",
      "01234567891011\n",
      "012345678910\n",
      "0123456789\n",
      "012345678\n",
      "01234567\n",
      "0123456\n",
      "012345\n",
      "01234\n",
      "0123\n",
      "012\n",
      "01\n",
      "0\n"
     ]
    }
   ],
   "source": [
    "# kerjakan nomor 1 di sini\n",
    "no = 50 \n",
    "for i in range(0, no+1):\n",
    "    for j in range(0, no+1):\n",
    "        print(j, end='')\n",
    "\n",
    "    print()\n",
    "    no-=1"
   ]
  },
  {
   "attachments": {},
   "cell_type": "markdown",
   "metadata": {},
   "source": [
    "2. Buatlah sebuah list yang berisi kota-kota yang ada di indonesia (minimal 10, salah satunya kota asal kalian), kemudian buat pengulangan yang menampilkan isi-isi dalam list tersebut, jika salah satu kota menunjukkan kota asal kalian maka tambahkan output \"kota X adalah kampung halaman saya\" (program tetap lanjut)"
   ]
  },
  {
   "cell_type": "code",
   "execution_count": 2,
   "metadata": {},
   "outputs": [
    {
     "name": "stdout",
     "output_type": "stream",
     "text": [
      "Wonogiri\n",
      "Kota Wonogiri adalah kampung halaman saya\n",
      "Surabaya\n",
      "Yogyakarta\n",
      "Bandung\n",
      "Jakarta\n",
      "Bali\n",
      "Lombok\n",
      "Makassar\n",
      "Pekanbaru\n",
      "Semarang\n"
     ]
    }
   ],
   "source": [
    "# Kerjakan nomor 2 di sini\n",
    "kota = ['Wonogiri', 'Surabaya', 'Yogyakarta', 'Bandung', 'Jakarta', 'Bali', 'Lombok', 'Makassar', 'Pekanbaru', 'Semarang']\n",
    "\n",
    "for n in kota:\n",
    "    print(n)\n",
    "\n",
    "    if n == kota[0]:\n",
    "        print('Kota Wonogiri adalah kampung halaman saya')"
   ]
  },
  {
   "attachments": {},
   "cell_type": "markdown",
   "metadata": {},
   "source": [
    "3. Disajikan list sebagai berikut"
   ]
  },
  {
   "cell_type": "code",
   "execution_count": null,
   "metadata": {},
   "outputs": [],
   "source": [
    "hari = ['senin', 'selasa','rabu','kamis','jumat','sabtu', 'minggu']\n",
    "menu_sahur = ['soto','pecel lele', 'ayam goreng', 'sayur sop', 'rendang','telur balado']"
   ]
  },
  {
   "attachments": {},
   "cell_type": "markdown",
   "metadata": {},
   "source": [
    "Abdul adalah seorang mahasiswa semester 2. Selama satu minggu ia membuat daftar menu sahur yang dia makan selama seminggu yang lalu. dengan catatan hari kamis Abdul ketiduran sehingga dia tidak sahur. Berdasarkan kasus tersebut buatlah program pengulangannya!"
   ]
  },
  {
   "cell_type": "code",
   "execution_count": 15,
   "metadata": {},
   "outputs": [
    {
     "name": "stdout",
     "output_type": "stream",
     "text": [
      "senin : soto\n",
      "selasa : pecel lele\n",
      "rabu : ayam goreng\n",
      "Pada hari kamis Abdul ketiduran dan tidak sahur\n",
      "jumat : rendang\n",
      "sabtu : telur balado\n"
     ]
    }
   ],
   "source": [
    "# kerjakan nomor 3 di sini\n",
    "hari = ['senin', 'selasa', 'rabu', 'kamis', 'jumat', 'sabtu', 'minggu']\n",
    "menu_sahur = ['soto','pecel lele', 'ayam goreng', 'sayur sop', 'rendang','telur balado']\n",
    "\n",
    "for h in range(len(hari)-1):\n",
    "    if hari[h] == 'kamis':\n",
    "        print(f'Pada hari {hari[h]} Abdul ketiduran dan tidak sahur')\n",
    "    else :\n",
    "        print(hari[h], ':', menu_sahur[h])"
   ]
  }
 ],
 "metadata": {
  "kernelspec": {
   "display_name": "Python 3",
   "language": "python",
   "name": "python3"
  },
  "language_info": {
   "codemirror_mode": {
    "name": "ipython",
    "version": 3
   },
   "file_extension": ".py",
   "mimetype": "text/x-python",
   "name": "python",
   "nbconvert_exporter": "python",
   "pygments_lexer": "ipython3",
   "version": "3.10.8"
  },
  "orig_nbformat": 4
 },
 "nbformat": 4,
 "nbformat_minor": 2
}
