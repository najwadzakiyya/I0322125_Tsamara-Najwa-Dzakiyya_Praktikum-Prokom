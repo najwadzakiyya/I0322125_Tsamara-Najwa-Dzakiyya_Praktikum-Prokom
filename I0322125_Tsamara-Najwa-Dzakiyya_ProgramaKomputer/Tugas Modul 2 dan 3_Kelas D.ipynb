{
 "cells": [
  {
   "cell_type": "code",
   "execution_count": 1,
   "metadata": {},
   "outputs": [
    {
     "name": "stdout",
     "output_type": "stream",
     "text": [
      "Tsamara Najwa Dzakiyya\n",
      "I0322125\n",
      "D\n"
     ]
    }
   ],
   "source": [
    "print(input(\"Nama: \"))\n",
    "print(input(\"NIM: \"))\n",
    "print(input(\"Kelas: \"))"
   ]
  },
  {
   "attachments": {},
   "cell_type": "markdown",
   "metadata": {},
   "source": [
    "## 1."
   ]
  },
  {
   "attachments": {},
   "cell_type": "markdown",
   "metadata": {},
   "source": [
    "diketahui dimensi sebuah aquarium tanpa penutup atas sebagai berikut:\n",
    "\n",
    "```python\n",
    "p = 11\n",
    "l = 1.99\n",
    "t = 25.87\n",
    "```\n",
    "buatkan program sederhana untuk menghitung diagonal tiap sisi dan luas permukaan aquarium tersebut tanpa menggunakan module math."
   ]
  },
  {
   "cell_type": "code",
   "execution_count": 2,
   "metadata": {},
   "outputs": [
    {
     "name": "stdout",
     "output_type": "stream",
     "text": [
      "=======================================\n",
      "            Diagonal Sisi              \n",
      "=======================================\n",
      "\n",
      "panjang   = 11\n",
      "lebar     = 1.99\n",
      "tinggi    = 25.87\n",
      "1. Diagonal Sisi Alas =  11.17855536283647\n",
      "2. Diagonal Sisi Depan atau Belakang =  28.11150831954771\n",
      "3. Diagonal Sisi Samping =  25.946425572706545\n",
      "\n",
      "=======================================\n",
      "Luas Permukaan Balok Tanpa Penutup Alas\n",
      "=======================================\n",
      "\n",
      "panjang   = 11\n",
      "lebar     = 1.99\n",
      "tinggi    = 25.87\n",
      "Luas Permukaan Balok =  693.9926\n"
     ]
    }
   ],
   "source": [
    "#diagonal tiap sisi\n",
    "print('=======================================')\n",
    "print('            Diagonal Sisi              ')\n",
    "print('=======================================')\n",
    "print()\n",
    "panjang = 11\n",
    "lebar   = 1.99\n",
    "tinggi  = 25.87\n",
    "\n",
    "print('panjang   = 11')\n",
    "print('lebar     = 1.99')\n",
    "print('tinggi    = 25.87')\n",
    "diagonalAlas    = ((panjang**2+lebar**2)**0.5)\n",
    "print('1. Diagonal Sisi Alas = ', diagonalAlas)\n",
    "diagonalDepan   = ((panjang**2+tinggi**2)**0.5)\n",
    "print('2. Diagonal Sisi Depan atau Belakang = ', diagonalDepan)\n",
    "diagonalSamping = ((lebar**2+tinggi**2)**0.5)\n",
    "print('3. Diagonal Sisi Samping = ', diagonalSamping)\n",
    "print()\n",
    "\n",
    "#luas permukaan balok\n",
    "print('=======================================')\n",
    "print('Luas Permukaan Balok Tanpa Penutup Alas')\n",
    "print('=======================================')\n",
    "print()\n",
    "print('panjang   = 11')\n",
    "print('lebar     = 1.99')\n",
    "print('tinggi    = 25.87')\n",
    "panjang = float(input('Panjang balok : '))\n",
    "lebar   = float(input('Lebar balok : '))\n",
    "tinggi  = float(input('Tinggi balok : '))\n",
    "\n",
    "LP      = (panjang*lebar) + 2*(panjang*tinggi) + 2*(lebar*tinggi)\n",
    "print('Luas Permukaan Balok = ',LP)"
   ]
  },
  {
   "attachments": {},
   "cell_type": "markdown",
   "metadata": {},
   "source": [
    "## 2."
   ]
  },
  {
   "attachments": {},
   "cell_type": "markdown",
   "metadata": {},
   "source": [
    "diberikan data nilai mahasiswa sebagai berikut:"
   ]
  },
  {
   "cell_type": "code",
   "execution_count": 1,
   "metadata": {},
   "outputs": [],
   "source": [
    "nilai = {\n",
    "    'Frank': 80,\n",
    "    'Abagnale': 75,\n",
    "    'Cobb': 90,\n",
    "    'Andy Dufresne': 85,\n",
    "    'Ariadne': 70\n",
    "}"
   ]
  },
  {
   "attachments": {},
   "cell_type": "markdown",
   "metadata": {},
   "source": [
    "buatlah program sederhana untuk menghitung nilai rata-rata semua mahasiswa dan mencari siapa yang mendapatkan nilai tertinggi dan nilai terendah. \n",
    "> *note: tidak perlu menggunakan loops untuk membuat program nya*"
   ]
  },
  {
   "cell_type": "code",
   "execution_count": 34,
   "metadata": {},
   "outputs": [
    {
     "name": "stdout",
     "output_type": "stream",
     "text": [
      "=======================================\n",
      "           Rata-Rata Nilai             \n",
      "=======================================\n",
      "\n",
      "Frank            : 80\n",
      "Abagnale         : 75\n",
      "Cobb             : 90\n",
      "Andy Dufresne    : 85\n",
      "Ariadne          : 70\n",
      "\n",
      "Rata-Rata Nilai        =  80.0\n",
      "90 adalah mahasiswa dengan nilai tetinggi\n",
      "70 adalah mahasiswa dengan nilai terendah\n"
     ]
    }
   ],
   "source": [
    "#nilai rata rata\n",
    "nilai = {\n",
    "    'Frank': 80,\n",
    "    'Abagnale': 75,\n",
    "    'Cobb': 90,\n",
    "    'Andy Dufresne': 85,\n",
    "    'Ariadne': 70\n",
    "}\n",
    "\n",
    "print('=======================================')\n",
    "print('           Rata-Rata Nilai             ')\n",
    "print('=======================================')\n",
    "print()\n",
    "print('Frank            : 80')\n",
    "print('Abagnale         : 75')\n",
    "print('Cobb             : 90')\n",
    "print('Andy Dufresne    : 85')\n",
    "print('Ariadne          : 70')\n",
    "\n",
    "nilai = [80,75,90,85,70]\n",
    "Rata_Rata = sum(nilai)/len(nilai)\n",
    "print()\n",
    "print('Rata-Rata Nilai        = ', Rata_Rata)\n",
    "nilai_tertinggi  = max(nilai)\n",
    "print(f\"{nilai_tertinggi} adalah nilai mahasiswa tetinggi\")\n",
    "nilai_terendah   = min(nilai)\n",
    "print(f\"{nilai_terendah} adalah nilai mahasiswa terendah\")\n"
   ]
  },
  {
   "attachments": {},
   "cell_type": "markdown",
   "metadata": {},
   "source": [
    "## 3. "
   ]
  },
  {
   "attachments": {},
   "cell_type": "markdown",
   "metadata": {},
   "source": [
    "diberikan list aslab sebagai berikut:\n",
    "```python\n",
    "list_aslab = [\n",
    "    {\"nama\": \"Berlian Safri Prakoso\", \"nim\": \"I0320017\", \"kontak\": \"0858XXXXXXXX\"},\n",
    "    {\"nama\": \"Halidya Siti Hanifah\", \"nim\": \"I0320044\", \"kontak\": \"0878XXXXXXXX\"},\n",
    "    {\"nama\": \"Nurki Putra Mahardika\", \"nim\": \"I0320076\", \"kontak\": \"0877XXXXXXXX\"},\n",
    "    {\"nama\": \"Aji Manarul Aziz\", \"nim\": \"I0320119\", \"kontak\": \"0812XXXXXXXX\"},\n",
    "    {\"nama\": \"Alica Ayu Fitriani\", \"nim\": \"I0320121\", \"kontak\": \"0896XXXXXXXX\"},\n",
    "    {\"nama\": \"Dendy Halim Kusuma\", \"nim\": \"I0320125\", \"kontak\": \"0822XXXXXXXX\"}\n",
    "]\n",
    "```\n",
    "* **A** Tuliskan kode untuk mengakses informasi tentang \"nama\" dari semua aslab mulai dari index 1 sampai 5\n",
    "* **B** Tambahkan informasi berikut pada data aslab:\n",
    "```python\n",
    "    surel = [\"berlian@student.uns.ac.id\",\n",
    "          \"halidya@student.uns.ac.id\",\n",
    "          \"nurki@student.uns.ac.id\",\n",
    "          \"manarul@student.uns.ac.id\",\n",
    "          \"alica@student.uns.ac.id\",\n",
    "          \"dendy@student.uns.ac.id\"]\n",
    "```\n",
    "> *note: kalian hanya boleh menggunakan key-value pair yang disebutkan di dalam teks, tanpa menggunakan informasi tambahan yang diambil pada list yang ada*"
   ]
  }
 ],
 "metadata": {
  "kernelspec": {
   "display_name": "Python 3",
   "language": "python",
   "name": "python3"
  },
  "language_info": {
   "codemirror_mode": {
    "name": "ipython",
    "version": 3
   },
   "file_extension": ".py",
   "mimetype": "text/x-python",
   "name": "python",
   "nbconvert_exporter": "python",
   "pygments_lexer": "ipython3",
   "version": "3.10.8"
  },
  "orig_nbformat": 4,
  "vscode": {
   "interpreter": {
    "hash": "5addf786bcd861d1ce5006f23111f8cbb206731e5b61b0a5632ba9e0252558a8"
   }
  }
 },
 "nbformat": 4,
 "nbformat_minor": 2
}
